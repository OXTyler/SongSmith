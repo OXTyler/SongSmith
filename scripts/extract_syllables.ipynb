{
 "cells": [
  {
   "cell_type": "code",
   "execution_count": 2,
   "id": "0b70162f-7d2d-4b44-b1ec-855ca6c7e401",
   "metadata": {},
   "outputs": [],
   "source": [
    "import os"
   ]
  },
  {
   "cell_type": "code",
   "execution_count": 3,
   "id": "3d723cc1-0574-41a3-9721-e588119bfe24",
   "metadata": {},
   "outputs": [
    {
     "name": "stdout",
     "output_type": "stream",
     "text": [
      "11528\n"
     ]
    }
   ],
   "source": [
    "path = 'word_level_29'\n",
    "files = os.listdir(path)\n",
    "print(len(files))"
   ]
  },
  {
   "cell_type": "code",
   "execution_count": 4,
   "id": "f68a9a5e-1838-4f20-a4f4-c0cf9fc08c05",
   "metadata": {},
   "outputs": [],
   "source": [
    "import numpy as np\n",
    "import warnings\n",
    "warnings.filterwarnings(\"ignore\", category=np.VisibleDeprecationWarning) "
   ]
  },
  {
   "cell_type": "code",
   "execution_count": 13,
   "id": "8ee579b5-b1f8-49fd-b73c-ce265faaa669",
   "metadata": {},
   "outputs": [],
   "source": [
    "output = open(\"song_syllables\", \"a\")\n",
    "for file in files:\n",
    "    try:\n",
    "        song = np.load(os.path.join(path, file), allow_pickle=True)[0]\n",
    "        temp = ' '.join((\" \".join( repr(e).strip('\\'') for e in val )) for val in np.squeeze(song[3])) + '\\n'\n",
    "        output.write(temp)\n",
    "    except:\n",
    "        continue\n",
    "output.close()\n"
   ]
  },
  {
   "cell_type": "code",
   "execution_count": 10,
   "id": "d3ce4d39-8854-43d4-a47d-d03756d9cf07",
   "metadata": {},
   "outputs": [
    {
     "name": "stdout",
     "output_type": "stream",
     "text": [
      "['I', 'wan', 'na', 'feel', 'like', 'strand', 'ed', 'You', 'left', 'me', 'a', 'lone', 'I', 'can', 'take', 'it', 'no', 'more', 'I', 'wish', 'that', 'you', 'were', 'here', 'by', 'my', 'side', 'I', 're', 'mem', 'ber', 'those', 'days', 'when', 'it', 'was', 'a', 'time', 'if', 'I', 'could', 'right', 'the', 'wrong', 'that', 'I', 'did', 'I', 'would', 'leave', 'it', 'up', 'to', 'you', 'if', 'you', 'were', 'here', 'I', 'know', 'you', 'would', 'too', 'I', 'dont', 'wan', 'na', 'feel', 'like', 'strand', 'ed', 'oh', 'ba', 'by', 'I', 'wan', 'na', 'be', 'here', 'a', 'lone', 'I', 'dont', 'wan', 'na', 'feel', 'a', 'ban', 'doned', 'But', 'may', 'be', 'hea', 'ven', 'is', 'the', 'place', 'our', 'love', 'be', 'longs', 'Now', 'that', 'a', 'lone', 'and', 'you', 'walked', 'a', 'way', 'from', 'me', 'I', 'just', 'wan', 'na', 'live', 'an', 'y', 'more', 'I', 'gave', 'my', 'life', 'to', 'you', 'like', 'you', 'gave', 'your', 'life', 'to', 'me', 'If', 'on', 'ly', 'I', 'could', 'show', 'what', 'I', 'mean', 'give', 'you', 'more', 'Than', 'ev', 'er', 'if', 'you', 'were', 'here', 'You', 'would', 'need', 'me', 'too', 'I', 'dont', 'wan', 'na', 'feel', 'like', 'stran', 'ded', 'oh', 'ba', 'by', 'I', 'wan', 'na', 'be', 'here', 'a', 'lone', 'I', 'dont', 'wan', 'na', 'feel', 'a', 'ban', 'doned', 'But', 'may', 'be', 'heav', 'en', 'is', 'the', 'place', 'our', 'love', 'be', 'longs', 'I', 'know', 'see', 'you', 'a', 'gain', 'some', 'day', 'be', 'wait', 'ing', 'for', 'that', 'day', 'my', 'life', 'I', 'know', 'that', 'things', 'will', 'be', 'the', 'same', 'a', 'gain', 'I', 'know', 'some', 'day', 'see', 'you', 'a', 'gain', 'I', 'dont', 'wan', 'na', 'feel', 'like', 'strand', 'ed', 'oh', 'ba', 'by', 'I', 'wan', 'na', 'be', 'here', 'a', 'lone', 'I', 'dont', 'wan', 'na', 'feel', 'a', 'ban', 'doned', 'But', 'may', 'be', 'hea', 'ven', 'is', 'the', 'place', 'our', 'love', 'be', 'longs', 'I', 'dont', 'wan', 'na', 'feel', 'like', 'stran', 'ded', 'oh', 'ba', 'by', 'I', 'wan', 'na', 'be', 'here', 'a', 'lone', 'I', 'dont', 'wan', 'na', 'feel', 'a', 'ban', 'doned', 'But', 'may', 'be', 'heav', 'en', 'is', 'the', 'place', 'our', 'love', 'be', 'longs']\n"
     ]
    }
   ],
   "source": [
    "output = open(\"song_syllables\", \"a\")\n",
    "file = files[0]\n",
    "song = np.load(os.path.join(path, file), allow_pickle=True)[0]\n",
    "temp = \"[\"\n",
    "temp += ', '.join((\", \".join( repr(e) for e in val )) for val in np.squeeze(song[3])) + \"]\"\n",
    "print(temp)\n",
    "output.close()"
   ]
  },
  {
   "cell_type": "code",
   "execution_count": null,
   "id": "8b9f2220-0465-4212-839a-a1e9d056bdb2",
   "metadata": {},
   "outputs": [],
   "source": []
  }
 ],
 "metadata": {
  "kernelspec": {
   "display_name": "Python 3 (ipykernel)",
   "language": "python",
   "name": "python3"
  },
  "language_info": {
   "codemirror_mode": {
    "name": "ipython",
    "version": 3
   },
   "file_extension": ".py",
   "mimetype": "text/x-python",
   "name": "python",
   "nbconvert_exporter": "python",
   "pygments_lexer": "ipython3",
   "version": "3.10.10"
  }
 },
 "nbformat": 4,
 "nbformat_minor": 5
}
