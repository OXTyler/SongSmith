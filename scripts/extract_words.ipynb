{
 "cells": [
  {
   "cell_type": "code",
   "execution_count": 1,
   "id": "0b70162f-7d2d-4b44-b1ec-855ca6c7e401",
   "metadata": {},
   "outputs": [],
   "source": [
    "import os"
   ]
  },
  {
   "cell_type": "code",
   "execution_count": 18,
   "id": "3d723cc1-0574-41a3-9721-e588119bfe24",
   "metadata": {},
   "outputs": [
    {
     "name": "stdout",
     "output_type": "stream",
     "text": [
      "11528\n"
     ]
    }
   ],
   "source": [
    "path = 'word_level_29'\n",
    "files = os.listdir(path)\n",
    "print(len(files))"
   ]
  },
  {
   "cell_type": "code",
   "execution_count": 48,
   "id": "f68a9a5e-1838-4f20-a4f4-c0cf9fc08c05",
   "metadata": {},
   "outputs": [],
   "source": [
    "import numpy as np\n",
    "import warnings\n",
    "warnings.filterwarnings(\"ignore\", category=np.VisibleDeprecationWarning) "
   ]
  },
  {
   "cell_type": "code",
   "execution_count": 58,
   "id": "8ee579b5-b1f8-49fd-b73c-ce265faaa669",
   "metadata": {},
   "outputs": [],
   "source": [
    "output = open(\"song_lyrics\", \"a\")\n",
    "for file in files:\n",
    "    try:\n",
    "        song = np.load(os.path.join(path, file), allow_pickle=True)[0]\n",
    "        temp = \"[\"\n",
    "        temp += ', '.join(str(val[0]) for val in np.squeeze(song[2])) + \"], \"\n",
    "        output.write(temp)\n",
    "    except:\n",
    "        continue\n",
    "output.close()\n"
   ]
  }
 ],
 "metadata": {
  "kernelspec": {
   "display_name": "Python 3 (ipykernel)",
   "language": "python",
   "name": "python3"
  },
  "language_info": {
   "codemirror_mode": {
    "name": "ipython",
    "version": 3
   },
   "file_extension": ".py",
   "mimetype": "text/x-python",
   "name": "python",
   "nbconvert_exporter": "python",
   "pygments_lexer": "ipython3",
   "version": "3.10.10"
  }
 },
 "nbformat": 4,
 "nbformat_minor": 5
}
