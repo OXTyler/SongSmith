{
 "cells": [
  {
   "cell_type": "code",
   "execution_count": 2,
   "id": "83d1e948-c2b3-49d5-bb5c-1ff359f37085",
   "metadata": {},
   "outputs": [],
   "source": [
    "from gensim.test.utils import datapath\n",
    "from gensim import utils"
   ]
  },
  {
   "cell_type": "code",
   "execution_count": 40,
   "id": "030cecf6-917d-4678-8eb8-e8970bf07f17",
   "metadata": {},
   "outputs": [],
   "source": [
    "class WordCorpus:\n",
    "    \n",
    "    def __iter__(self):\n",
    "        corpus_path = 'song_syllables'\n",
    "        for line in open(corpus_path):\n",
    "            yield utils.simple_preprocess(line)\n",
    "            "
   ]
  },
  {
   "cell_type": "code",
   "execution_count": 41,
   "id": "808d7e2e-0b50-4ce0-a4db-51a2150024ce",
   "metadata": {},
   "outputs": [],
   "source": [
    "import gensim.models"
   ]
  },
  {
   "cell_type": "code",
   "execution_count": 42,
   "id": "9dbdfb9a-d7b7-47de-9e20-54f856e8644b",
   "metadata": {},
   "outputs": [],
   "source": [
    "songs = WordCorpus()\n",
    "model = gensim.models.Word2Vec(sentences=songs)"
   ]
  },
  {
   "cell_type": "code",
   "execution_count": 43,
   "id": "607d84cf-8a8d-47c7-a1d2-05bd88dd830b",
   "metadata": {},
   "outputs": [],
   "source": [
    "model.save('syllable_vectors')\n",
    "    \n",
    "#load weights using gensim.models.Word2Vec.load(temporary_filepath)"
   ]
  },
  {
   "cell_type": "code",
   "execution_count": 44,
   "id": "e7c6787c-81b6-4040-860f-121f707f60f7",
   "metadata": {},
   "outputs": [
    {
     "data": {
      "text/plain": [
       "[('grea', 0.7110798954963684),\n",
       " ('yih', 0.4591703414916992),\n",
       " ('phi', 0.4458520710468292),\n",
       " ('rit', 0.4430602192878723),\n",
       " ('wy', 0.43283000588417053),\n",
       " ('dern', 0.40942543745040894),\n",
       " ('del', 0.40205690264701843),\n",
       " ('bue', 0.40200236439704895),\n",
       " ('tters', 0.40092217922210693),\n",
       " ('brew', 0.399415522813797)]"
      ]
     },
     "execution_count": 44,
     "metadata": {},
     "output_type": "execute_result"
    }
   ],
   "source": [
    "model.wv.most_similar('test', topn=10)"
   ]
  },
  {
   "cell_type": "code",
   "execution_count": null,
   "id": "332ddd1e-5ddd-4d82-b3ad-676e45a080c7",
   "metadata": {},
   "outputs": [],
   "source": []
  }
 ],
 "metadata": {
  "kernelspec": {
   "display_name": "Python 3 (ipykernel)",
   "language": "python",
   "name": "python3"
  },
  "language_info": {
   "codemirror_mode": {
    "name": "ipython",
    "version": 3
   },
   "file_extension": ".py",
   "mimetype": "text/x-python",
   "name": "python",
   "nbconvert_exporter": "python",
   "pygments_lexer": "ipython3",
   "version": "3.10.10"
  }
 },
 "nbformat": 4,
 "nbformat_minor": 5
}
