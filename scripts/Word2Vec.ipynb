{
 "cells": [
  {
   "cell_type": "code",
   "execution_count": 2,
   "id": "83d1e948-c2b3-49d5-bb5c-1ff359f37085",
   "metadata": {},
   "outputs": [],
   "source": [
    "from gensim.test.utils import datapath\n",
    "from gensim import utils"
   ]
  },
  {
   "cell_type": "code",
   "execution_count": 8,
   "id": "030cecf6-917d-4678-8eb8-e8970bf07f17",
   "metadata": {},
   "outputs": [],
   "source": [
    "class WordCorpus:\n",
    "    \n",
    "    def __iter__(self):\n",
    "        corpus_path = 'song_lyrics'\n",
    "        for line in open(corpus_path):\n",
    "            yield utils.simple_preprocess(line)\n",
    "            "
   ]
  },
  {
   "cell_type": "code",
   "execution_count": 9,
   "id": "808d7e2e-0b50-4ce0-a4db-51a2150024ce",
   "metadata": {},
   "outputs": [],
   "source": [
    "import gensim.models"
   ]
  },
  {
   "cell_type": "code",
   "execution_count": 10,
   "id": "9dbdfb9a-d7b7-47de-9e20-54f856e8644b",
   "metadata": {},
   "outputs": [],
   "source": [
    "songs = WordCorpus()\n",
    "model = gensim.models.Word2Vec(sentences=songs)"
   ]
  },
  {
   "cell_type": "code",
   "execution_count": 11,
   "id": "607d84cf-8a8d-47c7-a1d2-05bd88dd830b",
   "metadata": {},
   "outputs": [],
   "source": [
    "model.save('lyric_vectors')\n",
    "    \n",
    "#load weights using gensim.models.Word2Vec.load(temporary_filepath)"
   ]
  },
  {
   "cell_type": "code",
   "execution_count": 12,
   "id": "e7c6787c-81b6-4040-860f-121f707f60f7",
   "metadata": {},
   "outputs": [
    {
     "data": {
      "text/plain": [
       "[('tend', 0.5367549061775208),\n",
       " ('jitterbug', 0.5314079523086548),\n",
       " ('lip', 0.5285046696662903),\n",
       " ('chain', 0.5155158638954163),\n",
       " ('decide', 0.5015550851821899),\n",
       " ('chasm', 0.499616801738739),\n",
       " ('shift', 0.4948000907897949),\n",
       " ('battlements', 0.47955384850502014),\n",
       " ('dare', 0.4780929684638977),\n",
       " ('draw', 0.47711968421936035)]"
      ]
     },
     "execution_count": 12,
     "metadata": {},
     "output_type": "execute_result"
    }
   ],
   "source": [
    "model.wv.most_similar('test', topn=10)"
   ]
  },
  {
   "cell_type": "code",
   "execution_count": null,
   "id": "332ddd1e-5ddd-4d82-b3ad-676e45a080c7",
   "metadata": {},
   "outputs": [],
   "source": []
  }
 ],
 "metadata": {
  "kernelspec": {
   "display_name": "Python 3 (ipykernel)",
   "language": "python",
   "name": "python3"
  },
  "language_info": {
   "codemirror_mode": {
    "name": "ipython",
    "version": 3
   },
   "file_extension": ".py",
   "mimetype": "text/x-python",
   "name": "python",
   "nbconvert_exporter": "python",
   "pygments_lexer": "ipython3",
   "version": "3.10.2"
  }
 },
 "nbformat": 4,
 "nbformat_minor": 5
}
