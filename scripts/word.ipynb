{
 "cells": [
  {
   "cell_type": "code",
   "execution_count": 23,
   "metadata": {},
   "outputs": [],
   "source": [
    "import os"
   ]
  },
  {
   "cell_type": "code",
   "execution_count": 38,
   "metadata": {},
   "outputs": [
    {
     "name": "stdout",
     "output_type": "stream",
     "text": [
      "11528\n",
      "['000203a04a64ad57329a058f11e235cb.npy', '00056caa278e4192461ca42ddb952532.npy', '001784858d9e607c0db054e68cab8c6c.npy', '001d789d86a9139c710af589a7a5f134.npy', '00263b5a69674d9f89df481f4253772a.npy', '004ab2763c2055cee741cb2aa9724def.npy', '005953e33c553b7596a05a02996e2102.npy', '0079ae8f89c6b7819e706e25784e462c.npy', '007f04ef1c169a935fc4801cb61021fa.npy', '008764e351528b0a8dc4e2e3febfaf89.npy']\n"
     ]
    }
   ],
   "source": [
    "path = 'word_level_29'\n",
    "files = os.listdir(path)\n",
    "print(len(files))\n",
    "print(files[:10])"
   ]
  },
  {
   "cell_type": "code",
   "execution_count": 39,
   "metadata": {},
   "outputs": [],
   "source": [
    "sample_file = files[24]"
   ]
  },
  {
   "cell_type": "code",
   "execution_count": 40,
   "metadata": {},
   "outputs": [],
   "source": [
    "import numpy as np"
   ]
  },
  {
   "cell_type": "code",
   "execution_count": 41,
   "metadata": {},
   "outputs": [],
   "source": [
    "sample_song = np.load(os.path.join(path, sample_file), allow_pickle=True)[0]"
   ]
  },
  {
   "cell_type": "code",
   "execution_count": 42,
   "metadata": {},
   "outputs": [
    {
     "data": {
      "text/plain": [
       "(4, 16)"
      ]
     },
     "execution_count": 42,
     "metadata": {},
     "output_type": "execute_result"
    }
   ],
   "source": [
    "len(sample_song), len(sample_song[0])"
   ]
  },
  {
   "cell_type": "code",
   "execution_count": 43,
   "metadata": {},
   "outputs": [
    {
     "data": {
      "text/plain": [
       "[[[0.0, 0.08455758333333208, 97.99885899543733, 115.0]],\n",
       " [[0.4411699999999996, 2.7407686249999994, 65.40639132514966, 124.0]],\n",
       " [[15.661534999999999, 0.11213070833333205, 82.4068892282175, 94.0]],\n",
       " [[4.4117, 0.16268143749999808, 73.41619197935188, 85.0]],\n",
       " [[0.4411699999999996, 0.2178276875000016, 65.40639132514966, 89.0]],\n",
       " [[22.940839999999998, 0.08915310416666955, 65.40639132514966, 94.0]],\n",
       " [[0.6617549999999994, 0.06617549999999994, 92.4986056779086, 94.0]],\n",
       " [[6.838135000000001, 0.07996206250000171, 82.4068892282175, 84.0]],\n",
       " [[4.852870000000003, 10.406097375000002, 164.81377845643496, 83.0]],\n",
       " [[14.558610000000002, 0.1259172708333267, 82.4068892282175, 101.0]]]"
      ]
     },
     "execution_count": 43,
     "metadata": {},
     "output_type": "execute_result"
    }
   ],
   "source": [
    "# each row is a note\n",
    "# [seconds since beginning, length, frequency]\n",
    "sample_song[0][:10] "
   ]
  },
  {
   "cell_type": "code",
   "execution_count": 44,
   "metadata": {},
   "outputs": [
    {
     "data": {
      "text/plain": [
       "[[[43.0, 0.25, 0.0]],\n",
       " [[36.0, 8.0, 2.0]],\n",
       " [[40.0, 0.5, 1.0]],\n",
       " [[38.0, 0.5, 1.0]],\n",
       " [[36.0, 1.0, 1.0]],\n",
       " [[36.0, 1.0, 2.0]],\n",
       " [[42.0, 0.75, 0.0]],\n",
       " [[40.0, 0.25, 2.0]],\n",
       " [[52.0, 32.0, 4.0]],\n",
       " [[40.0, 1.0, 0.0]]]"
      ]
     },
     "execution_count": 44,
     "metadata": {},
     "output_type": "execute_result"
    }
   ],
   "source": [
    "# each row is a note \n",
    "# [pitch, duration, duration of rest before the note]\n",
    "sample_song[1][:10]"
   ]
  },
  {
   "cell_type": "code",
   "execution_count": 45,
   "metadata": {},
   "outputs": [
    {
     "data": {
      "text/plain": [
       "[['ah'],\n",
       " ['look'],\n",
       " ['in'],\n",
       " ['in'],\n",
       " ['a'],\n",
       " ['the'],\n",
       " ['that'],\n",
       " ['in'],\n",
       " ['the'],\n",
       " ['do']]"
      ]
     },
     "execution_count": 45,
     "metadata": {},
     "output_type": "execute_result"
    }
   ],
   "source": [
    "# words of the song\n",
    "sample_song[2][:10]"
   ]
  },
  {
   "cell_type": "code",
   "execution_count": 46,
   "metadata": {},
   "outputs": [
    {
     "data": {
      "text/plain": [
       "[['ah'],\n",
       " ['look'],\n",
       " ['in'],\n",
       " ['in'],\n",
       " ['a'],\n",
       " ['the'],\n",
       " ['that'],\n",
       " ['in'],\n",
       " ['the'],\n",
       " ['do']]"
      ]
     },
     "execution_count": 46,
     "metadata": {},
     "output_type": "execute_result"
    }
   ],
   "source": [
    "# syllables of the song\n",
    "sample_song[3][:10]"
   ]
  },
  {
   "cell_type": "code",
   "execution_count": null,
   "metadata": {},
   "outputs": [],
   "source": []
  },
  {
   "cell_type": "code",
   "execution_count": null,
   "metadata": {},
   "outputs": [],
   "source": []
  },
  {
   "cell_type": "code",
   "execution_count": null,
   "metadata": {},
   "outputs": [],
   "source": []
  }
 ],
 "metadata": {
  "kernelspec": {
   "display_name": "Python 3 (ipykernel)",
   "language": "python",
   "name": "python3"
  },
  "language_info": {
   "codemirror_mode": {
    "name": "ipython",
    "version": 3
   },
   "file_extension": ".py",
   "mimetype": "text/x-python",
   "name": "python",
   "nbconvert_exporter": "python",
   "pygments_lexer": "ipython3",
   "version": "3.10.10"
  },
  "vscode": {
   "interpreter": {
    "hash": "de49d99f986005179b3d2cd93817b51e476fe78568b8d6bcd609f96c9571b6b6"
   }
  }
 },
 "nbformat": 4,
 "nbformat_minor": 4
}
