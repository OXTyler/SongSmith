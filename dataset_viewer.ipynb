{
 "cells": [
  {
   "cell_type": "code",
   "execution_count": null,
   "id": "c518ce9b-b660-4e6b-b41e-6eb56826f528",
   "metadata": {},
   "outputs": [],
   "source": [
    "import numpy as np\n",
    "import matplotlib.pyplot as plt\n",
    "%matplotlib inline\n",
    "import pretty_midi\n",
    "import librosa\n",
    "import mir_eval\n",
    "import mir_eval.display\n",
    "import tables\n",
    "import IPython.display\n",
    "import os\n",
    "import json"
   ]
  },
  {
   "cell_type": "code",
   "execution_count": null,
   "id": "814680bd-dbee-419b-9670-6ddf733e57a0",
   "metadata": {},
   "outputs": [],
   "source": [
    "# Local path constants\n",
    "DATA_PATH = 'data'\n",
    "RESULTS_PATH = 'results'\n",
    "# Path to the file match_scores.json distributed with the LMD\n",
    "SCORE_FILE = os.path.join(RESULTS_PATH, 'match_scores.json')\n",
    "\n",
    "# Utility functions for retrieving paths\n",
    "def msd_id_to_dirs(msd_id):\n",
    "    \"\"\"Given an MSD ID, generate the path prefix.\n",
    "    E.g. TRABCD12345678 -> A/B/C/TRABCD12345678\"\"\"\n",
    "    return os.path.join(msd_id[2], msd_id[3], msd_id[4], msd_id)\n",
    "\n",
    "def msd_id_to_mp3(msd_id):\n",
    "    \"\"\"Given an MSD ID, return the path to the corresponding mp3\"\"\"\n",
    "    return os.path.join(DATA_PATH, 'msd', 'mp3',\n",
    "                        msd_id_to_dirs(msd_id) + '.mp3')\n",
    "\n",
    "def msd_id_to_h5(h5):\n",
    "    \"\"\"Given an MSD ID, return the path to the corresponding h5\"\"\"\n",
    "    return os.path.join(RESULTS_PATH, 'lmd_matched_h5',\n",
    "                        msd_id_to_dirs(msd_id) + '.h5')\n",
    "\n",
    "def get_midi_path(msd_id, midi_md5, kind):\n",
    "    \"\"\"Given an MSD ID and MIDI MD5, return path to a MIDI file.\n",
    "    kind should be one of 'matched' or 'aligned'. \"\"\"\n",
    "    return os.path.join(RESULTS_PATH, 'lmd_{}'.format(kind),\n",
    "                        msd_id_to_dirs(msd_id), midi_md5 + '.mid')"
   ]
  },
  {
   "cell_type": "code",
   "execution_count": null,
   "id": "ad6c4505-6768-42cf-b017-043131cfc32a",
   "metadata": {},
   "outputs": [],
   "source": [
    "with open(SCORE_FILE) as f:\n",
    "    scores = json.load(f)\n",
    "# Grab a Million Song Dataset ID from the scores dictionary\n",
    "msd_id = scores.keys()[1234]\n",
    "print 'Million Song Dataset ID {} has {} MIDI file matches:'.format(\n",
    "    msd_id, len(scores[msd_id]))\n",
    "for midi_md5, score in scores[msd_id].items():\n",
    "    print '  {} with confidence score {}'.format(midi_md5, score)"
   ]
  }
 ],
 "metadata": {
  "kernelspec": {
   "display_name": "Python 3 (ipykernel)",
   "language": "python",
   "name": "python3"
  },
  "language_info": {
   "codemirror_mode": {
    "name": "ipython",
    "version": 3
   },
   "file_extension": ".py",
   "mimetype": "text/x-python",
   "name": "python",
   "nbconvert_exporter": "python",
   "pygments_lexer": "ipython3",
   "version": "3.10.9"
  }
 },
 "nbformat": 4,
 "nbformat_minor": 5
}
